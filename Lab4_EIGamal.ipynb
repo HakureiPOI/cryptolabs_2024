{
  "nbformat": 4,
  "nbformat_minor": 0,
  "metadata": {
    "colab": {
      "provenance": [],
      "authorship_tag": "ABX9TyOj2La+5skyK3UrGTgNtI+U",
      "include_colab_link": true
    },
    "kernelspec": {
      "name": "python3",
      "display_name": "Python 3"
    },
    "language_info": {
      "name": "python"
    }
  },
  "cells": [
    {
      "cell_type": "markdown",
      "metadata": {
        "id": "view-in-github",
        "colab_type": "text"
      },
      "source": [
        "<a href=\"https://colab.research.google.com/github/HakureiPOI/cryptolabs_2024/blob/main/Lab4_EIGamal.ipynb\" target=\"_parent\"><img src=\"https://colab.research.google.com/assets/colab-badge.svg\" alt=\"Open In Colab\"/></a>"
      ]
    },
    {
      "cell_type": "markdown",
      "source": [
        "# HakureiPOI\n",
        "***Lab4_EIGamal***"
      ],
      "metadata": {
        "id": "F6DdV4pwQm4P"
      }
    },
    {
      "cell_type": "markdown",
      "source": [
        "---\n",
        "### EIGamal 类"
      ],
      "metadata": {
        "id": "h7YyrgQ9QwCq"
      }
    },
    {
      "cell_type": "code",
      "execution_count": 7,
      "metadata": {
        "id": "kRy6QnZgQfX0"
      },
      "outputs": [],
      "source": [
        "import random\n",
        "import hashlib"
      ]
    },
    {
      "cell_type": "code",
      "source": [
        "class ElGamal:\n",
        "    def __init__(self):\n",
        "        self.p = None\n",
        "        self.g = None\n",
        "        self.y = None\n",
        "        self.__x = None\n",
        "        self.public_key = None\n",
        "        self.__private_key = None\n",
        "\n",
        "    def __gcd(self, a, b):\n",
        "        # 计算两个数的最大公约数（欧几里得算法）\n",
        "        while b != 0:\n",
        "            a, b = b, a % b\n",
        "        return a\n",
        "\n",
        "    def __extended_gcd(self, a, b):\n",
        "        # 扩展欧几里得算法，用于求解模逆\n",
        "        if a == 0:\n",
        "            return b, 0, 1\n",
        "        gcd, x1, y1 = self.__extended_gcd(b % a, a)\n",
        "        x = y1 - (b // a) * x1\n",
        "        y = x1\n",
        "        return gcd, x, y\n",
        "\n",
        "    def __mod_inverse(self, k, p):\n",
        "        # 使用扩展欧几里得算法计算模逆\n",
        "        gcd, x, _ = self.__extended_gcd(k, p)\n",
        "        if gcd != 1:\n",
        "            return None  # 如果最大公约数不是1，则模逆不存在\n",
        "        return x % p\n",
        "\n",
        "    def generate_keys(self, p, g):\n",
        "        # 生成公钥和私钥\n",
        "        self.p = p\n",
        "        self.g = g\n",
        "        self.__x = random.randint(1, p - 2)  # 私钥\n",
        "        self.y = pow(g, self.__x, p)  # 公钥\n",
        "        self.public_key = (self.p, self.g, self.y)\n",
        "        self.__private_key = self.__x\n",
        "        return self.public_key, self.__private_key\n",
        "\n",
        "    def __hash_message(self, m):\n",
        "        # 使用SHA-256对消息进行哈希\n",
        "        hash_obj = hashlib.sha256()\n",
        "        hash_obj.update(str(m).encode('utf-8'))\n",
        "        return int(hash_obj.hexdigest(), 16)\n",
        "\n",
        "    def sign_message(self, m):\n",
        "        # 对消息进行签名\n",
        "        while True:\n",
        "            k = random.randint(1, self.p - 2)\n",
        "            if self.__gcd(k, self.p - 1) == 1:\n",
        "                break\n",
        "        print(f\"用于签名的随机数 k: {k}\")\n",
        "\n",
        "        r = pow(self.g, k, self.p)\n",
        "        k_inv = self.__mod_inverse(k, self.p - 1)\n",
        "        h_m = self.__hash_message(m)\n",
        "        s = (k_inv * (h_m - self.__x * r)) % (self.p - 1)\n",
        "        return r, s\n",
        "\n",
        "    def verify_signature(self, m, r, s):\n",
        "        # 验证签名的有效性\n",
        "        if not (0 < r < self.p):\n",
        "            return False\n",
        "\n",
        "        h_m = self.__hash_message(m)\n",
        "        v1 = (pow(self.y, r, self.p) * pow(r, s, self.p)) % self.p\n",
        "        v2 = pow(self.g, h_m, self.p)\n",
        "        return v1 == v2"
      ],
      "metadata": {
        "id": "NlG241UKS_uR"
      },
      "execution_count": 10,
      "outputs": []
    },
    {
      "cell_type": "markdown",
      "source": [
        "---\n",
        "### 测试"
      ],
      "metadata": {
        "id": "_r0IuuWTWuHj"
      }
    },
    {
      "cell_type": "code",
      "source": [
        "if __name__ == \"__main__\":\n",
        "    # 素数 p 和生成元 g\n",
        "    p = 467\n",
        "    g = 2\n",
        "\n",
        "    # 创建 ElGamal 实例\n",
        "    elgamal = ElGamal()\n",
        "\n",
        "    # 生成公钥和私钥\n",
        "    public_key, private_key = elgamal.generate_keys(p, g)\n",
        "    print(\"公钥:\", public_key)\n",
        "    print(\"私钥:\", private_key)\n",
        "\n",
        "    # 要签名的消息（使用学号）\n",
        "    message = 220110720\n",
        "\n",
        "    # 使用不同的随机数 k 进行两次签名\n",
        "    print(\"\\n第一次签名:\")\n",
        "    r1, s1 = elgamal.sign_message(message)\n",
        "    print(\"签名: (r, s) =\", (r1, s1))\n",
        "\n",
        "    print(\"\\n第二次签名:\")\n",
        "    r2, s2 = elgamal.sign_message(message)\n",
        "    print(\"签名: (r, s) =\", (r2, s2))\n",
        "\n",
        "    # 验证签名\n",
        "    print(\"\\n验证第一次签名:\")\n",
        "    is_valid_1 = elgamal.verify_signature(message, r1, s1)\n",
        "    print(\"第一次签名是否有效:\", is_valid_1)\n",
        "\n",
        "    print(\"\\n验证第二次签名:\")\n",
        "    is_valid_2 = elgamal.verify_signature(message, r2, s2)\n",
        "    print(\"第二次签名是否有效:\", is_valid_2)\n",
        "\n",
        "    # 验证消息被篡改的情况\n",
        "    tampered_message = 220110721\n",
        "    print(\"\\n验证被篡改的消息:\")\n",
        "    is_valid_tampered = elgamal.verify_signature(tampered_message, r1, s1)\n",
        "    print(\"篡改后的消息签名是否有效:\", is_valid_tampered)"
      ],
      "metadata": {
        "colab": {
          "base_uri": "https://localhost:8080/"
        },
        "id": "SBTLt_TWUHsE",
        "outputId": "0674d1f5-3500-41f5-a6a6-639ea10e2871"
      },
      "execution_count": 11,
      "outputs": [
        {
          "output_type": "stream",
          "name": "stdout",
          "text": [
            "公钥: (467, 2, 118)\n",
            "私钥: 39\n",
            "\n",
            "第一次签名:\n",
            "用于签名的随机数 k: 357\n",
            "签名: (r, s) = (217, 216)\n",
            "\n",
            "第二次签名:\n",
            "用于签名的随机数 k: 275\n",
            "签名: (r, s) = (457, 82)\n",
            "\n",
            "验证第一次签名:\n",
            "第一次签名是否有效: True\n",
            "\n",
            "验证第二次签名:\n",
            "第二次签名是否有效: True\n",
            "\n",
            "验证被篡改的消息:\n",
            "篡改后的消息签名是否有效: False\n"
          ]
        }
      ]
    },
    {
      "cell_type": "code",
      "source": [],
      "metadata": {
        "id": "l891Ps29W2bk"
      },
      "execution_count": 9,
      "outputs": []
    }
  ]
}